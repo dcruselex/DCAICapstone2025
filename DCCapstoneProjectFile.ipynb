{
 "cells": [
  {
   "cell_type": "markdown",
   "id": "15ef673a",
   "metadata": {},
   "source": [
    "Main Program"
   ]
  },
  {
   "cell_type": "markdown",
   "id": "112eae0f",
   "metadata": {},
   "source": [
    "Task 1 Requirement Recap\n",
    "1. Read financial_transactions.csv from your specified directory.\n",
    "2. Parse each row into a dictionary.\n",
    "3. Convert date strings to datetime objects.\n",
    "4. Make debit amounts negative.\n",
    "5. Skip invalid rows and log errors to errors.txt.\n",
    "Print the number of loaded transactions."
   ]
  },
  {
   "cell_type": "code",
   "execution_count": 6,
   "id": "05cf8e27",
   "metadata": {},
   "outputs": [
    {
     "name": "stdout",
     "output_type": "stream",
     "text": [
      "100000 valid transaction(s) loaded.\n",
      "{'transaction_id': 1, 'date': datetime.datetime(2020, 10, 26, 0, 0), 'customer_id': 926, 'amount': 6478.39, 'type': 'credit', 'description': 'Expect series shake art again our.'}\n",
      "{'transaction_id': 2, 'date': datetime.datetime(2020, 1, 8, 0, 0), 'customer_id': 466, 'amount': 1255.95, 'type': 'credit', 'description': 'Each left similar likely coach take.'}\n",
      "{'transaction_id': 3, 'date': datetime.datetime(2019, 9, 2, 0, 0), 'customer_id': 110, 'amount': -7969.68, 'type': 'debit', 'description': 'Direction wife job pull determine leader move college.'}\n"
     ]
    }
   ],
   "source": [
    "import csv\n",
    "from datetime import datetime\n",
    "import os\n",
    "import pandas as pd\n",
    "def load_transactions(\n",
    "    filename='/Users/davidcruse/Documents/CodeUProject/DCAICapstone2025/financial_transactions.csv',\n",
    "    errorlog = 'errors.txt'\n",
    "):\n",
    "    transactions = []\n",
    "    error_lines = []\n",
    "    \n",
    "    try:\n",
    "        with open(filename, mode='r', newline='', encoding='utf-8') as file:\n",
    "            reader = csv.DictReader(file)\n",
    "            for row_num, row in enumerate(reader, start=2):  # start=2 to account for header line\n",
    "                try:\n",
    "                    # Parse and validate fields\n",
    "                    transaction_id = int(row['transaction_id'])\n",
    "                    date = datetime.strptime(row['date'], '%Y-%m-%d')\n",
    "                    customer_id = int(row['customer_id'])\n",
    "                    amount = float(row['amount'])\n",
    "                    if row['type'] not in ['credit', 'debit', 'transfer']:\n",
    "                        raise ValueError(f\"Invalid transaction type: {row['type']}\")\n",
    "                    description = row['description'].strip()\n",
    "\n",
    "                    # Adjust amount if debit\n",
    "                    if row['type'] == 'debit':\n",
    "                        amount = -abs(amount)\n",
    "\n",
    "                    transaction = {\n",
    "                        'transaction_id': transaction_id,\n",
    "                        'date': date,\n",
    "                        'customer_id': customer_id,\n",
    "                        'amount': amount,\n",
    "                        'type': row['type'],\n",
    "                        'description': description\n",
    "                    }\n",
    "\n",
    "                    transactions.append(transaction)\n",
    "\n",
    "                except Exception as e:\n",
    "                    error_lines.append(f\"Row {row_num}: {e} | Raw: {row}\")\n",
    "\n",
    "    except FileNotFoundError:\n",
    "        print(f\"Error: File not found at path: {filename}\")\n",
    "        return []\n",
    "\n",
    "    # Log errors to errors.txt in same directory\n",
    "    if error_lines:\n",
    "        error_log_path = os.path.join(os.path.dirname(filename), error_log)\n",
    "        with open(error_log_path, 'w', encoding='utf-8') as f:\n",
    "            for line in error_lines:\n",
    "                f.write(line + '\\n')\n",
    "        print(f\"{len(error_lines)} invalid row(s) skipped. See {error_log_path} for details.\")\n",
    "\n",
    "    print(f\"{len(transactions)} valid transaction(s) loaded.\")\n",
    "    return transactions\n",
    "\n",
    "if __name__ == \"__main__\":\n",
    "    transactions = load_transactions()\n",
    "    for t in transactions[:3]:  # Show the first 3 for preview\n",
    "        print(t)"
   ]
  },
  {
   "cell_type": "markdown",
   "id": "797d5e4f",
   "metadata": {},
   "source": []
  }
 ],
 "metadata": {
  "kernelspec": {
   "display_name": "Python 3",
   "language": "python",
   "name": "python3"
  },
  "language_info": {
   "codemirror_mode": {
    "name": "ipython",
    "version": 3
   },
   "file_extension": ".py",
   "mimetype": "text/x-python",
   "name": "python",
   "nbconvert_exporter": "python",
   "pygments_lexer": "ipython3",
   "version": "3.9.1"
  }
 },
 "nbformat": 4,
 "nbformat_minor": 5
}
